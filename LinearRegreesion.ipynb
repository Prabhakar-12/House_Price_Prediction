{
 "cells": [
  {
   "cell_type": "code",
   "execution_count": null,
   "id": "52692637",
   "metadata": {},
   "outputs": [],
   "source": [
    "import pandas as pd\n",
    "import matplotlib.pyplot as plt\n",
    "from sklearn.model_selection import train_test_split\n",
    "from sklearn.linear_model import LinearRegression\n",
    "from sklearn.metrics import mean_squared_error, r2_score, mean_absolute_error\n",
    "from sklearn.preprocessing import StandardScaler\n",
    "\n",
    "# Load the dataset\n",
    "Data = pd.read_csv('housing.xls')\n",
    "\n",
    "# Check missing values and handle them (if needed)\n",
    "print(Data.isnull().sum())  # Check missing values\n",
    "# Example: Dropping rows with missing values\n",
    "Data = Data.dropna()\n",
    "\n",
    "# Define features (X) and target (y)\n",
    "X = Data[['Avg. Area Income', 'Avg. Area House Age', \n",
    "          'Avg. Area Number of Rooms', 'Avg. Area Number of Bedrooms', \n",
    "          'Area Population']]\n",
    "y = Data['Price']\n",
    "\n",
    "# Split data into training and test sets (use a smaller test size like 0.2)\n",
    "X_train, X_test, y_train, y_test = train_test_split(X, y, test_size=0.2, random_state=42)\n",
    "\n",
    "# Optionally scale features (StandardScaler)\n",
    "scaler = StandardScaler()\n",
    "X_train_scaled = scaler.fit_transform(X_train)\n",
    "X_test_scaled = scaler.transform(X_test)\n",
    "\n",
    "# Train the model (use scaled data if scaling)\n",
    "model = LinearRegression()\n",
    "model.fit(X_train_scaled, y_train)\n",
    "\n",
    "# Predict the house prices\n",
    "y_pred = model.predict(X_test_scaled)\n",
    "\n",
    "# Evaluate the model's performance\n",
    "mse = mean_squared_error(y_test, y_pred)\n",
    "r2 = r2_score(y_test, y_pred)\n",
    "mae = mean_absolute_error(y_test, y_pred)\n",
    "\n",
    "print(\"MSE:\", mse)\n",
    "print(\"R² Score:\", r2)\n",
    "print(\"MAE:\", mae)\n",
    "\n",
    "# Plotting Actual vs Predicted\n",
    "plt.figure(figsize=(8,6), dpi=100)\n",
    "plt.scatter(y_test, y_pred, alpha=0.4, color='blue')\n",
    "plt.plot([y_test.min(), y_test.max()], [y_test.min(), y_test.max()], color='red', lw=2)  # Perfect prediction line\n",
    "plt.xlabel(\"Actual Prices\")\n",
    "plt.ylabel(\"Predicted Prices\")\n",
    "plt.title(\"Linear Regression: Actual vs Predicted House Prices\")\n",
    "plt.grid(True)\n",
    "plt.savefig(\"LinearRegression.jpg\")\n",
    "plt.show()\n",
    "\n",
    "# Plotting Residuals\n",
    "# residual = actual - predicted\n",
    "# residuals = y_test - y_pred\n",
    "residuals = y_test - y_pred\n",
    "plt.figure(figsize=(8,6))\n",
    "plt.scatter(y_pred, residuals, alpha=0.5, color='green')\n",
    "#  This line represents:\n",
    "# The zero residual line, i.e., where actual value = predicted value.\n",
    "plt.axhline(y=0, color='red', linestyle='--')  # Zero residual line\n",
    "plt.xlabel(\"Predicted Prices\")\n",
    "plt.ylabel(\"Residuals\")\n",
    "plt.title(\"Residuals vs Predicted Prices\")\n",
    "plt.show()\n",
    "\"\"\" Residual less than 0 (below the red line):\n",
    "Actual < Predicted\n",
    "\n",
    "The model overestimated the house price.\n",
    "\n",
    "Example: Model predicted ₹60L, actual was ₹50L → residual = -10L.\n",
    "\n",
    "🔼 Residual greater than 0 (above the red line):\n",
    "Actual > Predicted\n",
    "\n",
    "The model underestimated the house price.\n",
    "\n",
    "Example: Model predicted ₹40L, actual was ₹55L → residual = +15L.\n",
    "\n",
    " \"\"\""
   ]
  },
  {
   "cell_type": "code",
   "execution_count": 4,
   "id": "b0f6372e",
   "metadata": {},
   "outputs": [
    {
     "data": {
      "text/plain": [
       "Index(['Avg. Area Income', 'Avg. Area House Age', 'Avg. Area Number of Rooms',\n",
       "       'Avg. Area Number of Bedrooms', 'Area Population', 'Price', 'Address'],\n",
       "      dtype='object')"
      ]
     },
     "execution_count": 4,
     "metadata": {},
     "output_type": "execute_result"
    }
   ],
   "source": [
    "Data.columns"
   ]
  },
  {
   "cell_type": "code",
   "execution_count": 8,
   "id": "12a7896d",
   "metadata": {},
   "outputs": [
    {
     "name": "stdout",
     "output_type": "stream",
     "text": [
      "[2.79270997e+09]\n"
     ]
    }
   ],
   "source": [
    "SampleUserInput=[[10002,2344,4,5,589]]\n",
    "Predicted_Output=model.predict(SampleUserInput)\n",
    "print(Predicted_Output)"
   ]
  },
  {
   "cell_type": "code",
   "execution_count": null,
   "id": "8b089742",
   "metadata": {},
   "outputs": [],
   "source": [
    "import pickle\n",
    "\n",
    "# Save the trained Decision Tree model as 'decision_tree_model.pkl'\n",
    "with open(\"project-root/model/Linear_Regression_model.pkl\", \"wb\") as f:\n",
    "    pickle.dump(model, f)\n",
    "\n",
    "print(\"✅ Decision Tree model saved as 'decision_tree_model.pkl'\")\n"
   ]
  }
 ],
 "metadata": {
  "kernelspec": {
   "display_name": "Python 3",
   "language": "python",
   "name": "python3"
  },
  "language_info": {
   "codemirror_mode": {
    "name": "ipython",
    "version": 3
   },
   "file_extension": ".py",
   "mimetype": "text/x-python",
   "name": "python",
   "nbconvert_exporter": "python",
   "pygments_lexer": "ipython3",
   "version": "3.11.13"
  }
 },
 "nbformat": 4,
 "nbformat_minor": 5
}
